{
 "cells": [
  {
   "metadata": {},
   "cell_type": "markdown",
   "source": "",
   "id": "58edfcf1494f2a11"
  },
  {
   "metadata": {},
   "cell_type": "markdown",
   "source": "# Simple project 3 :- IMDB",
   "id": "286654f2bfdd6c15"
  },
  {
   "metadata": {},
   "cell_type": "code",
   "source": [
    "import pandas as pd\n",
    "import matplotlib.pyplot as plt\n",
    "!pip install seaborn\n",
    "import seaborn as sns"
   ],
   "id": "e9a691b616491504",
   "outputs": [],
   "execution_count": null
  },
  {
   "metadata": {},
   "cell_type": "code",
   "source": [
    "df = pd.read_csv(r\"C:\\Users\\ADMIN\\Downloads\\archive (2)\\IMDB-Movie-Data.csv\")\n",
    "df"
   ],
   "id": "a60aa6a50a032b2d",
   "outputs": [],
   "execution_count": null
  },
  {
   "metadata": {},
   "cell_type": "code",
   "source": [
    "df.dropna(inplace=True)\n",
    "df"
   ],
   "id": "8053890f9e508680",
   "outputs": [],
   "execution_count": null
  },
  {
   "metadata": {},
   "cell_type": "code",
   "source": "df.info()",
   "id": "5cdf44813a005579",
   "outputs": [],
   "execution_count": null
  },
  {
   "metadata": {},
   "cell_type": "markdown",
   "source": "# First time trying plotting",
   "id": "4670c444d6214c18"
  },
  {
   "metadata": {},
   "cell_type": "code",
   "source": [
    "sns.scatterplot(x='Votes', y='Rating', data=df)#Ratinf vs votes plot\n",
    "plt.title('Rating vs Votes')\n",
    "plt.xlabel('Number of votes')\n",
    "plt.ylabel('IMDB score')\n",
    "plt.show()"
   ],
   "id": "f77cca7a491b78df",
   "outputs": [],
   "execution_count": null
  },
  {
   "metadata": {},
   "cell_type": "code",
   "source": [
    "sns.scatterplot(x='Rating', y='Runtime (Minutes)', data=df)# how ratings are Varying over the runtime\n",
    "plt.title('Rating vs Runtime')\n",
    "plt.xlabel('Rating')\n",
    "plt.ylabel('Runtime (Minutes)')\n",
    "plt.show()"
   ],
   "id": "34b3a2bf9ae86d86",
   "outputs": [],
   "execution_count": null
  },
  {
   "metadata": {},
   "cell_type": "code",
   "source": "df.groupby('Genre')['Rating'].mean().sort_values(ascending=False).head(10)#Highest rated genres",
   "id": "ce833c6772cf84ea",
   "outputs": [],
   "execution_count": null
  },
  {
   "metadata": {},
   "cell_type": "code",
   "source": [
    "df.groupby('Genre')[\"Rating\"].mean().sort_values(ascending=False).head(10).plot(kind='bar')# Same thing but Looks cooler\n",
    "plt.title('Rating vs Genre')\n",
    "plt.xlabel('Genre')\n",
    "plt.ylabel('Rating')\n",
    "plt.show()"
   ],
   "id": "246aef79089e131f",
   "outputs": [],
   "execution_count": null
  },
  {
   "metadata": {},
   "cell_type": "markdown",
   "source": "# I call this feature engineering.",
   "id": "fd5ffbefb84a6450"
  },
  {
   "metadata": {},
   "cell_type": "code",
   "source": [
    "df['Rating ratio']=(df['Rating']/df['Votes'])*100\n",
    "df['Title Length']=df['Title'].apply(len)\n",
    "df['Critic vs User']=((df['Rating']-(df['Metascore']/10))**2)**0.5 #I was feeling so proud of myself, now I remembered that I could've used abs(x) T_T\n",
    "df['went Viral']=df['Votes'].apply(lambda x:\"Yes\" if x > 20000 else \"Moderate\")\n",
    "df"
   ],
   "id": "9f9a5c060b345ab1",
   "outputs": [],
   "execution_count": null
  }
 ],
 "metadata": {
  "kernelspec": {
   "display_name": "Python 3",
   "language": "python",
   "name": "python3"
  },
  "language_info": {
   "codemirror_mode": {
    "name": "ipython",
    "version": 2
   },
   "file_extension": ".py",
   "mimetype": "text/x-python",
   "name": "python",
   "nbconvert_exporter": "python",
   "pygments_lexer": "ipython2",
   "version": "2.7.6"
  }
 },
 "nbformat": 4,
 "nbformat_minor": 5
}
