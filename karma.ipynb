{
 "cells": [
  {
   "metadata": {},
   "cell_type": "code",
   "source": "pip install pandas",
   "id": "bbe464b00a22ca63",
   "outputs": [],
   "execution_count": null
  },
  {
   "metadata": {},
   "cell_type": "code",
   "source": "import pandas as pd",
   "id": "30a62ab438e04a13",
   "outputs": [],
   "execution_count": null
  },
  {
   "metadata": {},
   "cell_type": "markdown",
   "source": "# Simple Project 1 :- Netflix & Movies EDA (Exploratory Data Analysis)",
   "id": "1ad5fafaf1cd435"
  },
  {
   "metadata": {},
   "cell_type": "code",
   "source": "A = pd.read_csv(r\"C:\\Users\\ADMIN\\Downloads\\archive\\netflix_titles.csv\")",
   "id": "7fd1160e19cf4d70",
   "outputs": [],
   "execution_count": null
  },
  {
   "metadata": {},
   "cell_type": "code",
   "source": "A",
   "id": "49e07d16d03edde0",
   "outputs": [],
   "execution_count": null
  },
  {
   "metadata": {},
   "cell_type": "code",
   "source": "A.isnull().sum() # it shows now many null values are there in every column.",
   "id": "9a8943dffa1e1f37",
   "outputs": [],
   "execution_count": null
  },
  {
   "metadata": {},
   "cell_type": "code",
   "source": "A[[\"rating\", \"director\", 'cast', 'country', 'date_added','rating',\"duration\"]].fillna(\"N/A\") #filled the NaNs with N/A.",
   "id": "b74fbd2255daefd6",
   "outputs": [],
   "execution_count": null
  },
  {
   "metadata": {},
   "cell_type": "code",
   "source": "A[\"type\"].value_counts() #6131 movies and 2676 TV shows.",
   "id": "34777f7e26f3a740",
   "outputs": [],
   "execution_count": null
  },
  {
   "metadata": {},
   "cell_type": "code",
   "source": "A[\"country\"].value_counts().head(10) #top 10 counties with most content.",
   "id": "24d8e10ad47f84e8",
   "outputs": [],
   "execution_count": null
  },
  {
   "metadata": {},
   "cell_type": "markdown",
   "source": "# To find the most common audience, both by rating and by genre.",
   "id": "3c9b4fdccebd0157"
  },
  {
   "metadata": {},
   "cell_type": "code",
   "source": "A.value_counts([\"rating\"]).head() #head() shows the top 5 list anyways.",
   "id": "29be4384bd8e3ec0",
   "outputs": [],
   "execution_count": null
  },
  {
   "metadata": {},
   "cell_type": "code",
   "source": "A.value_counts([\"listed_in\"]).head()",
   "id": "ecdb6ead5a979c6c",
   "outputs": [],
   "execution_count": null
  },
  {
   "metadata": {},
   "cell_type": "code",
   "source": "# A[[\"listed_in\", \"rating\" ]].value_counts().head(10) ##Just my intuitive thought.",
   "id": "3185ad180e577b44",
   "outputs": [],
   "execution_count": null
  },
  {
   "metadata": {},
   "cell_type": "markdown",
   "source": "# to watch, how many movies were released per year.",
   "id": "19de81687d4b17f9"
  },
  {
   "metadata": {},
   "cell_type": "code",
   "source": "A.value_counts([\"release_year\"]).sort_index().head(15).plot(kind=\"bar\", figsize=(10, 3))",
   "id": "1e41d3e6921f5682",
   "outputs": [],
   "execution_count": null
  },
  {
   "metadata": {},
   "cell_type": "code",
   "source": "A.value_counts([\"release_year\"]).sort_index().head(20) #to watch, how many movies were released per year. The plotting kind of felt useless, so I am trying this without the plot and just by using the features of this app.",
   "id": "c5bc5d6a21bedc41",
   "outputs": [],
   "execution_count": null
  },
  {
   "metadata": {},
   "cell_type": "code",
   "outputs": [],
   "execution_count": null,
   "source": "A.value_counts([\"release_year\"]).sort_index() #It just makes a 1d graph.",
   "id": "4cc5766d53179998"
  },
  {
   "metadata": {},
   "cell_type": "markdown",
   "source": "# shows the date, when the most of the shows were added",
   "id": "aeb4403df67e5feb"
  },
  {
   "metadata": {
    "ExecuteTime": {
     "end_time": "2025-04-05T04:19:24.914464Z",
     "start_time": "2025-04-05T04:19:24.901229Z"
    }
   },
   "cell_type": "code",
   "source": [
    "A[\"date_added\"]=pd.to_datetime(A[\"date_added\"]) # Made them like August = 8, April = 4.\n",
    "A.value_counts(\"date_added\").head(20).sort_index()"
   ],
   "id": "aa7e58103835d077",
   "outputs": [
    {
     "data": {
      "text/plain": [
       "date_added\n",
       "2017-08-01     39\n",
       "2017-10-01     47\n",
       "2018-01-01     52\n",
       "2018-03-01     75\n",
       "2018-04-01     44\n",
       "2018-05-01     41\n",
       "2018-07-01     40\n",
       "2018-10-01     71\n",
       "2018-11-01     60\n",
       "2019-07-01     52\n",
       "2019-10-01     60\n",
       "2019-11-01     89\n",
       "2019-12-31     74\n",
       "2020-01-01    109\n",
       "2020-04-01     43\n",
       "2021-01-01     49\n",
       "2021-06-02     51\n",
       "2021-07-01     60\n",
       "2021-07-06     39\n",
       "2021-09-01     56\n",
       "Name: count, dtype: int64"
      ]
     },
     "execution_count": 54,
     "metadata": {},
     "output_type": "execute_result"
    }
   ],
   "execution_count": 54
  },
  {
   "metadata": {},
   "cell_type": "code",
   "source": "",
   "id": "6e253b682379eb9a",
   "outputs": [],
   "execution_count": null
  }
 ],
 "metadata": {
  "kernelspec": {
   "display_name": "Python 3",
   "language": "python",
   "name": "python3"
  },
  "language_info": {
   "codemirror_mode": {
    "name": "ipython",
    "version": 2
   },
   "file_extension": ".py",
   "mimetype": "text/x-python",
   "name": "python",
   "nbconvert_exporter": "python",
   "pygments_lexer": "ipython2",
   "version": "2.7.6"
  }
 },
 "nbformat": 4,
 "nbformat_minor": 5
}
