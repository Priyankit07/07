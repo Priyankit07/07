{
 "cells": [
  {
   "metadata": {},
   "cell_type": "markdown",
   "source": "",
   "id": "58edfcf1494f2a11"
  },
  {
   "metadata": {},
   "cell_type": "markdown",
   "source": "# Simple Project 2 :- YouTube Video Stats Analysis",
   "id": "fc1451b832418e34"
  },
  {
   "metadata": {},
   "cell_type": "code",
   "source": "import pandas as pd",
   "id": "d41cb2232c8978e8",
   "outputs": [],
   "execution_count": null
  },
  {
   "metadata": {},
   "cell_type": "code",
   "source": [
    "df = pd.read_csv(r\"C:\\Users\\ADMIN\\Downloads\\archive (1)\\INvideos.csv\", encoding='latin1')\n",
    "df"
   ],
   "id": "7b13bcb31743a61a",
   "outputs": [],
   "execution_count": null
  },
  {
   "metadata": {},
   "cell_type": "code",
   "source": [
    "df.dropna(inplace=True) # To remove the rows with 'NaN' value, inplace=True to create a new csv without the NaN values. So now df = that csv which dosen't have the Nan values.\n",
    "df"
   ],
   "id": "daff74ab00ac898d",
   "outputs": [],
   "execution_count": null
  },
  {
   "metadata": {},
   "cell_type": "code",
   "source": "df.info()",
   "id": "bbc9cb830e817b1c",
   "outputs": [],
   "execution_count": null
  },
  {
   "metadata": {},
   "cell_type": "code",
   "source": [
    "t=df.sort_values(by='views',ascending=False).head(10)# Top 10 most viewed videos\n",
    "print(\"\\nTop Viewed videos are:-\")\n",
    "print(t,[['title','channel_title','views']])"
   ],
   "id": "7194b80e49a26569",
   "outputs": [],
   "execution_count": null
  },
  {
   "metadata": {},
   "cell_type": "code",
   "source": [
    "t=df.sort_values(by='views',ascending=False).head(10)# Top 10 most viewed videos\n",
    "t[['title','channel_title','views']] #I like this one better that the print statement"
   ],
   "id": "861d9ad0891aa82a",
   "outputs": [],
   "execution_count": null
  },
  {
   "metadata": {},
   "cell_type": "code",
   "source": [
    "m=df.value_counts(['channel_title']).head(1)#Most frequent channel = VikatanTV\n",
    "print ('\\nThe most active channel is:',m)"
   ],
   "id": "b31d1c61b8200a11",
   "outputs": [],
   "execution_count": null
  },
  {
   "metadata": {},
   "cell_type": "code",
   "source": [
    "m=df.value_counts(['channel_title']).head(1)#Most frequent channel = VikatanTV\n",
    "m"
   ],
   "id": "4db86fddac7336d3",
   "outputs": [],
   "execution_count": null
  },
  {
   "metadata": {},
   "cell_type": "code",
   "source": [
    "# Videos with better Views/Like ratio(Most loved videos)\n",
    "z=df['likes']/df['views']\n",
    "df['likes_to_views_ratio'] = z#This maes it a new column in the csv(Not permanent of course)\n",
    "y = df.sort_values('likes_to_views_ratio', ascending=False).head(10)\n",
    "y[['title','channel_title']]"
   ],
   "id": "f062d81d625d2691",
   "outputs": [],
   "execution_count": null
  }
 ],
 "metadata": {
  "kernelspec": {
   "display_name": "Python 3",
   "language": "python",
   "name": "python3"
  },
  "language_info": {
   "codemirror_mode": {
    "name": "ipython",
    "version": 2
   },
   "file_extension": ".py",
   "mimetype": "text/x-python",
   "name": "python",
   "nbconvert_exporter": "python",
   "pygments_lexer": "ipython2",
   "version": "2.7.6"
  }
 },
 "nbformat": 4,
 "nbformat_minor": 5
}
